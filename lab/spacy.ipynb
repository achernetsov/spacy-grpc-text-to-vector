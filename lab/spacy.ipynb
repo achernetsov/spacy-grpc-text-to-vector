{
 "cells": [
  {
   "cell_type": "code",
   "execution_count": null,
   "id": "54c28e06-2a9f-4a8c-95b5-60d1bd27b936",
   "metadata": {
    "tags": []
   },
   "outputs": [],
   "source": [
    "# install model\n",
    "!python -m spacy download en_core_web_md"
   ]
  },
  {
   "cell_type": "code",
   "execution_count": 2,
   "id": "872fbb8c-81ee-45c4-9555-0ea2a5727764",
   "metadata": {
    "tags": []
   },
   "outputs": [],
   "source": [
    "# loading model into memory\n",
    "import spacy\n",
    "nlp = spacy.load('en_core_web_md')"
   ]
  },
  {
   "cell_type": "code",
   "execution_count": 9,
   "id": "9afe42c5-28b1-44de-b68e-759d964785f5",
   "metadata": {
    "tags": []
   },
   "outputs": [],
   "source": [
    "# transforming texts to vectors\n",
    "doc1 = nlp(\"how old are you?\")\n",
    "doc2 = nlp(\"what is your age?\")"
   ]
  },
  {
   "cell_type": "code",
   "execution_count": 10,
   "id": "ead01a4e-86d7-4eaf-8aa3-7371c9aeb3cd",
   "metadata": {
    "tags": []
   },
   "outputs": [
    {
     "name": "stdout",
     "output_type": "stream",
     "text": [
      "0.7114367972402682\n"
     ]
    }
   ],
   "source": [
    "# finding similarity between texts using spacy\n",
    "similarity = doc1.similarity(doc2)\n",
    "print(similarity)"
   ]
  },
  {
   "cell_type": "code",
   "execution_count": 11,
   "id": "a53e3607-a5e3-495f-8a60-47c2ec742e4c",
   "metadata": {
    "tags": []
   },
   "outputs": [
    {
     "name": "stdout",
     "output_type": "stream",
     "text": [
      "0.71143675\n"
     ]
    }
   ],
   "source": [
    "# finding cosine similarity between doc vectors\n",
    "# https://stackoverflow.com/a/43043160/827704\n",
    "v1 = doc1.vector\n",
    "v2 = doc2.vector\n",
    "\n",
    "from numpy import dot\n",
    "from numpy.linalg import norm\n",
    "\n",
    "cos_sim = dot(v1, v2) / (norm(v1) * norm(v2))\n",
    "print(cos_sim)"
   ]
  },
  {
   "cell_type": "code",
   "execution_count": 3,
   "id": "1672e700-5820-41fa-ac0b-ea8eab93edc5",
   "metadata": {
    "tags": []
   },
   "outputs": [
    {
     "name": "stdout",
     "output_type": "stream",
     "text": [
      "0.10878414126932857\n"
     ]
    }
   ],
   "source": [
    "# testing non-similar texts\n",
    "# transforming texts to vectors\n",
    "doc1 = nlp(\"how old are you?\")\n",
    "doc2 = nlp(\"London is the capital of Great Britain\")\n",
    "similarity = doc1.similarity(doc2)\n",
    "print(similarity)"
   ]
  },
  {
   "cell_type": "code",
   "execution_count": null,
   "id": "90e42cf4-de14-4bb7-a9c7-2393ca5479e9",
   "metadata": {
    "tags": []
   },
   "outputs": [],
   "source": [
    "!python -m spacy download ru_core_news_md"
   ]
  },
  {
   "cell_type": "code",
   "execution_count": 5,
   "id": "9cda2b8f-a00f-4aae-a1d8-77b245071dba",
   "metadata": {
    "tags": []
   },
   "outputs": [
    {
     "name": "stdout",
     "output_type": "stream",
     "text": [
      "0.7842995252616008\n",
      "0.7842996\n"
     ]
    }
   ],
   "source": [
    "import spacy\n",
    "nlp = spacy.load('ru_core_news_md')\n",
    "doc1 = nlp(\"Когда планируется день открытых дверей?\")\n",
    "doc2 = nlp(\"В какой день пройдет день открытых дверей?\")\n",
    "similarity = doc1.similarity(doc2)\n",
    "print(similarity)\n",
    "\n",
    "v1 = doc1.vector\n",
    "v2 = doc2.vector\n",
    "\n",
    "from numpy import dot\n",
    "from numpy.linalg import norm\n",
    "\n",
    "cos_sim = dot(v1, v2) / (norm(v1) * norm(v2))\n",
    "print(cos_sim)"
   ]
  },
  {
   "cell_type": "code",
   "execution_count": 6,
   "id": "6406277f-0866-4723-bd29-e96bd30d1e97",
   "metadata": {
    "tags": []
   },
   "outputs": [
    {
     "name": "stdout",
     "output_type": "stream",
     "text": [
      "Collecting pl-core-news-md==3.5.0\n",
      "  Downloading https://github.com/explosion/spacy-models/releases/download/pl_core_news_md-3.5.0/pl_core_news_md-3.5.0-py3-none-any.whl (49.5 MB)\n",
      "\u001b[2K     \u001b[90m━━━━━━━━━━━━━━━━━━━━━━━━━━━━━━━━━━━━━━━━\u001b[0m \u001b[32m49.5/49.5 MB\u001b[0m \u001b[31m81.0 kB/s\u001b[0m eta \u001b[36m0:00:00\u001b[0m00:01\u001b[0m00:16\u001b[0m\n",
      "\u001b[?25hRequirement already satisfied: spacy<3.6.0,>=3.5.0 in /home/ac/projects/chipa-group/nlp-system/spacy-grpc-text-to-vector/.venv/lib/python3.10/site-packages (from pl-core-news-md==3.5.0) (3.5.1)\n",
      "Requirement already satisfied: typer<0.8.0,>=0.3.0 in /home/ac/projects/chipa-group/nlp-system/spacy-grpc-text-to-vector/.venv/lib/python3.10/site-packages (from spacy<3.6.0,>=3.5.0->pl-core-news-md==3.5.0) (0.7.0)\n",
      "Requirement already satisfied: requests<3.0.0,>=2.13.0 in /home/ac/projects/chipa-group/nlp-system/spacy-grpc-text-to-vector/.venv/lib/python3.10/site-packages (from spacy<3.6.0,>=3.5.0->pl-core-news-md==3.5.0) (2.28.2)\n",
      "Requirement already satisfied: tqdm<5.0.0,>=4.38.0 in /home/ac/projects/chipa-group/nlp-system/spacy-grpc-text-to-vector/.venv/lib/python3.10/site-packages (from spacy<3.6.0,>=3.5.0->pl-core-news-md==3.5.0) (4.65.0)\n",
      "Requirement already satisfied: pydantic!=1.8,!=1.8.1,<1.11.0,>=1.7.4 in /home/ac/projects/chipa-group/nlp-system/spacy-grpc-text-to-vector/.venv/lib/python3.10/site-packages (from spacy<3.6.0,>=3.5.0->pl-core-news-md==3.5.0) (1.10.6)\n",
      "Requirement already satisfied: smart-open<7.0.0,>=5.2.1 in /home/ac/projects/chipa-group/nlp-system/spacy-grpc-text-to-vector/.venv/lib/python3.10/site-packages (from spacy<3.6.0,>=3.5.0->pl-core-news-md==3.5.0) (6.3.0)\n",
      "Requirement already satisfied: wasabi<1.2.0,>=0.9.1 in /home/ac/projects/chipa-group/nlp-system/spacy-grpc-text-to-vector/.venv/lib/python3.10/site-packages (from spacy<3.6.0,>=3.5.0->pl-core-news-md==3.5.0) (1.1.1)\n",
      "Requirement already satisfied: srsly<3.0.0,>=2.4.3 in /home/ac/projects/chipa-group/nlp-system/spacy-grpc-text-to-vector/.venv/lib/python3.10/site-packages (from spacy<3.6.0,>=3.5.0->pl-core-news-md==3.5.0) (2.4.6)\n",
      "Requirement already satisfied: spacy-legacy<3.1.0,>=3.0.11 in /home/ac/projects/chipa-group/nlp-system/spacy-grpc-text-to-vector/.venv/lib/python3.10/site-packages (from spacy<3.6.0,>=3.5.0->pl-core-news-md==3.5.0) (3.0.12)\n",
      "Requirement already satisfied: jinja2 in /home/ac/projects/chipa-group/nlp-system/spacy-grpc-text-to-vector/.venv/lib/python3.10/site-packages (from spacy<3.6.0,>=3.5.0->pl-core-news-md==3.5.0) (3.1.2)\n",
      "Requirement already satisfied: setuptools in /home/ac/projects/chipa-group/nlp-system/spacy-grpc-text-to-vector/.venv/lib/python3.10/site-packages (from spacy<3.6.0,>=3.5.0->pl-core-news-md==3.5.0) (67.6.0)\n",
      "Requirement already satisfied: preshed<3.1.0,>=3.0.2 in /home/ac/projects/chipa-group/nlp-system/spacy-grpc-text-to-vector/.venv/lib/python3.10/site-packages (from spacy<3.6.0,>=3.5.0->pl-core-news-md==3.5.0) (3.0.8)\n",
      "Requirement already satisfied: spacy-loggers<2.0.0,>=1.0.0 in /home/ac/projects/chipa-group/nlp-system/spacy-grpc-text-to-vector/.venv/lib/python3.10/site-packages (from spacy<3.6.0,>=3.5.0->pl-core-news-md==3.5.0) (1.0.4)\n",
      "Requirement already satisfied: pathy>=0.10.0 in /home/ac/projects/chipa-group/nlp-system/spacy-grpc-text-to-vector/.venv/lib/python3.10/site-packages (from spacy<3.6.0,>=3.5.0->pl-core-news-md==3.5.0) (0.10.1)\n",
      "Requirement already satisfied: numpy>=1.15.0 in /home/ac/projects/chipa-group/nlp-system/spacy-grpc-text-to-vector/.venv/lib/python3.10/site-packages (from spacy<3.6.0,>=3.5.0->pl-core-news-md==3.5.0) (1.24.2)\n",
      "Requirement already satisfied: murmurhash<1.1.0,>=0.28.0 in /home/ac/projects/chipa-group/nlp-system/spacy-grpc-text-to-vector/.venv/lib/python3.10/site-packages (from spacy<3.6.0,>=3.5.0->pl-core-news-md==3.5.0) (1.0.9)\n",
      "Requirement already satisfied: langcodes<4.0.0,>=3.2.0 in /home/ac/projects/chipa-group/nlp-system/spacy-grpc-text-to-vector/.venv/lib/python3.10/site-packages (from spacy<3.6.0,>=3.5.0->pl-core-news-md==3.5.0) (3.3.0)\n",
      "Requirement already satisfied: cymem<2.1.0,>=2.0.2 in /home/ac/projects/chipa-group/nlp-system/spacy-grpc-text-to-vector/.venv/lib/python3.10/site-packages (from spacy<3.6.0,>=3.5.0->pl-core-news-md==3.5.0) (2.0.7)\n",
      "Requirement already satisfied: catalogue<2.1.0,>=2.0.6 in /home/ac/projects/chipa-group/nlp-system/spacy-grpc-text-to-vector/.venv/lib/python3.10/site-packages (from spacy<3.6.0,>=3.5.0->pl-core-news-md==3.5.0) (2.0.8)\n",
      "Requirement already satisfied: thinc<8.2.0,>=8.1.8 in /home/ac/projects/chipa-group/nlp-system/spacy-grpc-text-to-vector/.venv/lib/python3.10/site-packages (from spacy<3.6.0,>=3.5.0->pl-core-news-md==3.5.0) (8.1.9)\n",
      "Requirement already satisfied: packaging>=20.0 in /home/ac/projects/chipa-group/nlp-system/spacy-grpc-text-to-vector/.venv/lib/python3.10/site-packages (from spacy<3.6.0,>=3.5.0->pl-core-news-md==3.5.0) (23.0)\n",
      "Requirement already satisfied: typing-extensions>=4.2.0 in /home/ac/projects/chipa-group/nlp-system/spacy-grpc-text-to-vector/.venv/lib/python3.10/site-packages (from pydantic!=1.8,!=1.8.1,<1.11.0,>=1.7.4->spacy<3.6.0,>=3.5.0->pl-core-news-md==3.5.0) (4.5.0)\n",
      "Requirement already satisfied: urllib3<1.27,>=1.21.1 in /home/ac/projects/chipa-group/nlp-system/spacy-grpc-text-to-vector/.venv/lib/python3.10/site-packages (from requests<3.0.0,>=2.13.0->spacy<3.6.0,>=3.5.0->pl-core-news-md==3.5.0) (1.26.15)\n",
      "Requirement already satisfied: charset-normalizer<4,>=2 in /home/ac/projects/chipa-group/nlp-system/spacy-grpc-text-to-vector/.venv/lib/python3.10/site-packages (from requests<3.0.0,>=2.13.0->spacy<3.6.0,>=3.5.0->pl-core-news-md==3.5.0) (3.1.0)\n",
      "Requirement already satisfied: idna<4,>=2.5 in /home/ac/projects/chipa-group/nlp-system/spacy-grpc-text-to-vector/.venv/lib/python3.10/site-packages (from requests<3.0.0,>=2.13.0->spacy<3.6.0,>=3.5.0->pl-core-news-md==3.5.0) (3.4)\n",
      "Requirement already satisfied: certifi>=2017.4.17 in /home/ac/projects/chipa-group/nlp-system/spacy-grpc-text-to-vector/.venv/lib/python3.10/site-packages (from requests<3.0.0,>=2.13.0->spacy<3.6.0,>=3.5.0->pl-core-news-md==3.5.0) (2022.12.7)\n",
      "Requirement already satisfied: blis<0.8.0,>=0.7.8 in /home/ac/projects/chipa-group/nlp-system/spacy-grpc-text-to-vector/.venv/lib/python3.10/site-packages (from thinc<8.2.0,>=8.1.8->spacy<3.6.0,>=3.5.0->pl-core-news-md==3.5.0) (0.7.9)\n",
      "Requirement already satisfied: confection<1.0.0,>=0.0.1 in /home/ac/projects/chipa-group/nlp-system/spacy-grpc-text-to-vector/.venv/lib/python3.10/site-packages (from thinc<8.2.0,>=8.1.8->spacy<3.6.0,>=3.5.0->pl-core-news-md==3.5.0) (0.0.4)\n",
      "Requirement already satisfied: click<9.0.0,>=7.1.1 in /home/ac/projects/chipa-group/nlp-system/spacy-grpc-text-to-vector/.venv/lib/python3.10/site-packages (from typer<0.8.0,>=0.3.0->spacy<3.6.0,>=3.5.0->pl-core-news-md==3.5.0) (8.1.3)\n",
      "Requirement already satisfied: MarkupSafe>=2.0 in /home/ac/projects/chipa-group/nlp-system/spacy-grpc-text-to-vector/.venv/lib/python3.10/site-packages (from jinja2->spacy<3.6.0,>=3.5.0->pl-core-news-md==3.5.0) (2.1.2)\n",
      "Installing collected packages: pl-core-news-md\n",
      "Successfully installed pl-core-news-md-3.5.0\n",
      "\u001b[38;5;2m✔ Download and installation successful\u001b[0m\n",
      "You can now load the package via spacy.load('pl_core_news_md')\n"
     ]
    }
   ],
   "source": [
    "!python -m spacy download pl_core_news_md"
   ]
  },
  {
   "cell_type": "code",
   "execution_count": 7,
   "id": "011da3c0-5415-4002-bfef-c0d9e9aa782a",
   "metadata": {
    "tags": []
   },
   "outputs": [
    {
     "name": "stdout",
     "output_type": "stream",
     "text": [
      "0.680247205568833\n",
      "0.6802471\n"
     ]
    }
   ],
   "source": [
    "import spacy\n",
    "nlp = spacy.load('pl_core_news_md')\n",
    "doc1 = nlp(\"które miasto jest najlepsze?\")\n",
    "doc2 = nlp(\"gdzie jest najlepsze miejsce do życia?\")\n",
    "similarity = doc1.similarity(doc2)\n",
    "print(similarity)\n",
    "\n",
    "v1 = doc1.vector\n",
    "v2 = doc2.vector\n",
    "\n",
    "from numpy import dot\n",
    "from numpy.linalg import norm\n",
    "\n",
    "cos_sim = dot(v1, v2) / (norm(v1) * norm(v2))\n",
    "print(cos_sim)"
   ]
  },
  {
   "cell_type": "code",
   "execution_count": null,
   "id": "3a62c942-975f-4f7f-95a5-e8be130b95df",
   "metadata": {},
   "outputs": [],
   "source": []
  }
 ],
 "metadata": {
  "kernelspec": {
   "display_name": "Python 3 (ipykernel)",
   "language": "python",
   "name": "python3"
  },
  "language_info": {
   "codemirror_mode": {
    "name": "ipython",
    "version": 3
   },
   "file_extension": ".py",
   "mimetype": "text/x-python",
   "name": "python",
   "nbconvert_exporter": "python",
   "pygments_lexer": "ipython3",
   "version": "3.10.10"
  }
 },
 "nbformat": 4,
 "nbformat_minor": 5
}
